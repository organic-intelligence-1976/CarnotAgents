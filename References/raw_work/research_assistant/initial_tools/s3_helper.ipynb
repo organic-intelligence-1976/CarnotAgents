{
 "cells": [
  {
   "cell_type": "code",
   "execution_count": 31,
   "metadata": {},
   "outputs": [
    {
     "name": "stderr",
     "output_type": "stream",
     "text": [
      "/var/folders/ym/lhzgn1912lzg_43vjbzftt0c0000gn/T/ipykernel_16925/1598423382.py:14: DeprecationWarning: The SafeConfigParser class has been renamed to ConfigParser in Python 3.2. This alias will be removed in Python 3.12. Use ConfigParser directly instead.\n",
      "  configs = configparser.SafeConfigParser()\n"
     ]
    }
   ],
   "source": [
    "# citation: https://github.com/brienna/arxiv\n",
    "\n",
    "import boto3, configparser\n",
    "\n",
    "def mylog(x):\n",
    "    print('\\n*******\\n', x, '\\n*******\\n')\n",
    "\n",
    "s3resource = None\n",
    "\n",
    "def setup():\n",
    "    \"\"\"Creates S3 resource & sets configs to enable download.\"\"\"\n",
    "\n",
    "    # Securely import configs from private config file\n",
    "    configs = configparser.SafeConfigParser()\n",
    "    configs.read('/Users/rezajamei/Desktop/aws-users/config.ini') #TODO: put the path in a config file\n",
    "\n",
    "    # Create S3 resource & set configs\n",
    "    global s3resource\n",
    "    s3resource = boto3.resource(\n",
    "        's3',  # the AWS resource we want to use\n",
    "        aws_access_key_id=configs['DEFAULT']['ACCESS_KEY'],\n",
    "        aws_secret_access_key=configs['DEFAULT']['SECRET_KEY'],\n",
    "        region_name='us-east-1'  # same region arxiv bucket is in\n",
    "    )\n",
    "\n",
    "if __name__ == '__main__':\n",
    "    \"\"\"Runs if script is called on command line\"\"\"\n",
    "\n",
    "    # Create S3 resource & set configs\n",
    "    setup()"
   ]
  },
  {
   "cell_type": "code",
   "execution_count": 33,
   "metadata": {},
   "outputs": [],
   "source": [
    "arxiv_bucket = s3resource.Bucket('arxiv')"
   ]
  },
  {
   "cell_type": "code",
   "execution_count": 39,
   "metadata": {},
   "outputs": [],
   "source": [
    "i=0\n",
    "for obj in arxiv_bucket.objects.filter(RequestPayer='requester', Delimiter='/'):\n",
    "    print(i)\n",
    "    i+=1\n",
    "    print(obj.key)\n",
    "    if i>10:\n",
    "        break"
   ]
  }
 ],
 "metadata": {
  "kernelspec": {
   "display_name": "Python 3.11",
   "language": "python",
   "name": "myenv"
  },
  "language_info": {
   "codemirror_mode": {
    "name": "ipython",
    "version": 3
   },
   "file_extension": ".py",
   "mimetype": "text/x-python",
   "name": "python",
   "nbconvert_exporter": "python",
   "pygments_lexer": "ipython3",
   "version": "3.11.3"
  }
 },
 "nbformat": 4,
 "nbformat_minor": 2
}

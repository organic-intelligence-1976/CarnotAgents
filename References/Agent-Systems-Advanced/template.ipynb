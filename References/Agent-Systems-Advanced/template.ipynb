{
 "cells": [
  {
   "cell_type": "code",
   "execution_count": 1,
   "id": "bdbd88f4-44cb-4656-9fa2-c16dd17d85ed",
   "metadata": {},
   "outputs": [],
   "source": [
    "from cursor_langgraph.core import task_management\n",
    "from cursor_langgraph.agents import base, maintenance\n",
    "from cursor_langgraph.context import pool"
   ]
  },
  {
   "cell_type": "code",
   "execution_count": 3,
   "id": "6de65733-a424-4a03-a209-92a6649d5ce1",
   "metadata": {},
   "outputs": [
    {
     "name": "stdout",
     "output_type": "stream",
     "text": [
      "created\n"
     ]
    }
   ],
   "source": [
    "# Create a task manager\n",
    "task_mgr = task_management.TaskManager()\n",
    "\n",
    "# Create a new task\n",
    "task = task_mgr.create_task(\"my_task\", {\"action\": \"test\"})\n",
    "print(task.status)  # Will print: \"created\""
   ]
  },
  {
   "cell_type": "code",
   "execution_count": 6,
   "id": "ba656440-b192-4b47-bc6e-f366d6364df0",
   "metadata": {},
   "outputs": [
    {
     "name": "stdout",
     "output_type": "stream",
     "text": [
      "Received message: Hello\n"
     ]
    }
   ],
   "source": [
    "# Create a base agent\n",
    "agent = base.BaseAgent()\n",
    "\n",
    "# Process a message\n",
    "response = agent.process_message(\"Hello\")\n",
    "print(response)  # Will print: \"Received message: Hello\""
   ]
  },
  {
   "cell_type": "code",
   "execution_count": 7,
   "id": "0c2ca925-f5fa-482c-806e-699dab77b5cc",
   "metadata": {},
   "outputs": [
    {
     "name": "stdout",
     "output_type": "stream",
     "text": [
      "Maintenance: Check system\n"
     ]
    }
   ],
   "source": [
    "# Create a maintenance agent\n",
    "maint_agent = maintenance.MaintenanceAgent()\n",
    "\n",
    "# Process a message\n",
    "response = maint_agent.process_message(\"Check system\")\n",
    "print(response)  # Will print: \"Maintenance: Check system\""
   ]
  },
  {
   "cell_type": "code",
   "execution_count": 8,
   "id": "10055dff-d490-4bd1-9db2-aa699fa00934",
   "metadata": {},
   "outputs": [
    {
     "name": "stdout",
     "output_type": "stream",
     "text": [
      "{'status': 'running'}\n"
     ]
    }
   ],
   "source": [
    "# Create a context pool\n",
    "context = pool.ContextPool()\n",
    "\n",
    "# Add data to context\n",
    "context.add(\"system_state\", {\"status\": \"running\"})\n",
    "\n",
    "# Retrieve data\n",
    "state = context.get(\"system_state\")\n",
    "print(state)  # Will print: {\"status\": \"running\"}"
   ]
  },
  {
   "cell_type": "code",
   "execution_count": null,
   "id": "2f25241b-8023-42a4-89d2-0a481d8bbdc1",
   "metadata": {},
   "outputs": [],
   "source": []
  }
 ],
 "metadata": {
  "kernelspec": {
   "display_name": "Python 3 (ipykernel)",
   "language": "python",
   "name": "python3"
  },
  "language_info": {
   "codemirror_mode": {
    "name": "ipython",
    "version": 3
   },
   "file_extension": ".py",
   "mimetype": "text/x-python",
   "name": "python",
   "nbconvert_exporter": "python",
   "pygments_lexer": "ipython3",
   "version": "3.11.7"
  }
 },
 "nbformat": 4,
 "nbformat_minor": 5
}

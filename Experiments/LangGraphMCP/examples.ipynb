{
 "cells": [
  {
   "cell_type": "markdown",
   "metadata": {},
   "source": [
    "# LangGraph + MCP Agent System Examples\n",
    "\n",
    "This notebook demonstrates how to use the minimal agent system that combines LangGraph state management with MCP-style tool interfaces."
   ]
  },
  {
   "cell_type": "code",
   "execution_count": null,
   "metadata": {},
   "outputs": [],
   "source": [
    "# Import the agent system\n",
    "from agent_system import Agent, Tool, AgentSystem, create_python_tool, create_memory_tool\n",
    "import asyncio\n",
    "import json"
   ]
  },
  {
   "cell_type": "markdown",
   "metadata": {},
   "source": [
    "## 1. Creating a Simple Agent with Tools"
   ]
  },
  {
   "cell_type": "code",
   "execution_count": null,
   "metadata": {},
   "outputs": [],
   "source": [
    "# Create a simple calculator tool\n",
    "def calculator_tool(expression: str) -> str:\n",
    "    try:\n",
    "        result = eval(expression)\n",
    "        return f\"Result: {result}\"\n",
    "    except Exception as e:\n",
    "        return f\"Error: {str(e)}\"\n",
    "\n",
    "# Wrap it as a Tool\n",
    "calc_tool = Tool(\n",
    "    name=\"calculator\",\n",
    "    func=calculator_tool,\n",
    "    description=\"Evaluates mathematical expressions\"\n",
    ")\n",
    "\n",
    "# Create an agent with context and tools\n",
    "math_agent = Agent(\n",
    "    name=\"MathExpert\",\n",
    "    context={\"role\": \"mathematician\", \"expertise\": [\"arithmetic\", \"algebra\"]},\n",
    "    tools=[calc_tool]\n",
    ")\n",
    "\n",
    "# Run a task\n",
    "result = await math_agent.run(\"Please use the calculator to compute 25 * 4 + 10\")\n",
    "print(json.dumps(result, indent=2))"
   ]
  },
  {
   "cell_type": "markdown",
   "metadata": {},
   "source": [
    "## 2. Creating Custom Tools"
   ]
  },
  {
   "cell_type": "code",
   "execution_count": null,
   "metadata": {},
   "outputs": [],
   "source": [
    "# Create a weather tool (mock)\n",
    "def weather_tool(location: str) -> str:\n",
    "    # In reality, this would call a weather API\n",
    "    weather_data = {\n",
    "        \"new york\": \"Sunny, 72°F\",\n",
    "        \"london\": \"Cloudy, 59°F\",\n",
    "        \"tokyo\": \"Rainy, 65°F\"\n",
    "    }\n",
    "    location_lower = location.lower()\n",
    "    return weather_data.get(location_lower, f\"No weather data for {location}\")\n",
    "\n",
    "# Create a string manipulation tool\n",
    "def string_tool(action: str, text: str) -> str:\n",
    "    if action == \"reverse\":\n",
    "        return text[::-1]\n",
    "    elif action == \"uppercase\":\n",
    "        return text.upper()\n",
    "    elif action == \"wordcount\":\n",
    "        return f\"Word count: {len(text.split())}\"\n",
    "    else:\n",
    "        return \"Unknown action\"\n",
    "\n",
    "# Create tools\n",
    "weather = Tool(name=\"weather\", func=weather_tool, description=\"Get weather information\")\n",
    "string_ops = Tool(name=\"string\", func=string_tool, description=\"String operations\")\n",
    "\n",
    "# Create an agent with multiple tools\n",
    "assistant = Agent(\n",
    "    name=\"GeneralAssistant\",\n",
    "    context={\"role\": \"helpful assistant\"},\n",
    "    tools=[weather, string_ops, calc_tool]\n",
    ")\n",
    "\n",
    "# Test multiple tools\n",
    "result = await assistant.run(\"What's the weather in London?\")\n",
    "print(\"Weather query:\", result[\"response\"])"
   ]
  },
  {
   "cell_type": "markdown",
   "metadata": {},
   "source": [
    "## 3. Agent as a Tool (Hierarchical Agents)"
   ]
  },
  {
   "cell_type": "code",
   "execution_count": null,
   "metadata": {},
   "outputs": [],
   "source": [
    "# Create specialized agents\n",
    "research_agent = Agent(\n",
    "    name=\"Researcher\",\n",
    "    context={\"role\": \"research specialist\", \"skills\": [\"web search\", \"summarization\"]},\n",
    "    tools=[string_ops]  # Give it some basic tools\n",
    ")\n",
    "\n",
    "coding_agent = Agent(\n",
    "    name=\"Coder\",\n",
    "    context={\"role\": \"software developer\", \"languages\": [\"python\", \"javascript\"]},\n",
    "    tools=[create_python_tool()]  # Give it code execution\n",
    ")\n",
    "\n",
    "# Convert agents to tools\n",
    "research_tool = research_agent.as_tool()\n",
    "coding_tool = coding_agent.as_tool()\n",
    "\n",
    "# Create a manager agent that can delegate to others\n",
    "manager = Agent(\n",
    "    name=\"ProjectManager\",\n",
    "    context={\"role\": \"project coordinator\"},\n",
    "    tools=[research_tool, coding_tool, calc_tool]\n",
    ")\n",
    "\n",
    "# Manager delegates tasks\n",
    "result = await manager.run(\"Use agent_Researcher to analyze the word count of 'Hello World'\")\n",
    "print(\"Manager delegation result:\")\n",
    "print(json.dumps(result, indent=2))"
   ]
  },
  {
   "cell_type": "markdown",
   "metadata": {},
   "source": [
    "## 4. Using the AgentSystem for Coordination"
   ]
  },
  {
   "cell_type": "code",
   "execution_count": null,
   "metadata": {},
   "outputs": [],
   "source": [
    "# Create an agent system\n",
    "system = AgentSystem()\n",
    "\n",
    "# Register a shared tool that all agents can use\n",
    "memory_tool = create_memory_tool()\n",
    "system.register_shared_tool(memory_tool)\n",
    "\n",
    "# Create agents through the system\n",
    "analyst = system.create_agent(\n",
    "    name=\"DataAnalyst\",\n",
    "    context={\"role\": \"data analysis\"},\n",
    "    tools=[calc_tool]\n",
    ")\n",
    "\n",
    "writer = system.create_agent(\n",
    "    name=\"Writer\",\n",
    "    context={\"role\": \"content creation\"},\n",
    "    tools=[string_ops]\n",
    ")\n",
    "\n",
    "# Both agents have access to the shared memory tool\n",
    "# Analyst stores a result\n",
    "result1 = await analyst.run(\"Use memory to store key='analysis_result' value='42 data points processed'\")\n",
    "print(\"Analyst stored:\", result1[\"response\"])\n",
    "\n",
    "# Writer retrieves it\n",
    "result2 = await writer.run(\"Use memory to retrieve key='analysis_result'\")\n",
    "print(\"Writer retrieved:\", result2[\"response\"])"
   ]
  },
  {
   "cell_type": "markdown",
   "metadata": {},
   "source": [
    "## 5. Creating a Hierarchical Team with the System"
   ]
  },
  {
   "cell_type": "code",
   "execution_count": null,
   "metadata": {},
   "outputs": [],
   "source": [
    "# Create a hierarchical team\n",
    "supervisor = system.create_hierarchical_agents(\n",
    "    supervisor_name=\"TeamLead\",\n",
    "    worker_names=[\"Developer\", \"Tester\", \"Designer\"],\n",
    "    supervisor_context={\"role\": \"technical lead\", \"team_size\": 3},\n",
    "    worker_contexts={\n",
    "        \"Developer\": {\"skills\": [\"python\", \"javascript\"]},\n",
    "        \"Tester\": {\"skills\": [\"unit testing\", \"integration testing\"]},\n",
    "        \"Designer\": {\"skills\": [\"UI/UX\", \"prototyping\"]}\n",
    "    }\n",
    ")\n",
    "\n",
    "# Supervisor can now delegate to team members\n",
    "result = await supervisor.run(\"Use agent_Developer to create a hello world function\")\n",
    "print(\"Team collaboration result:\")\n",
    "print(json.dumps(result, indent=2))"
   ]
  },
  {
   "cell_type": "markdown",
   "metadata": {},
   "source": [
    "## 6. Creating Complex Tool Chains"
   ]
  },
  {
   "cell_type": "code",
   "execution_count": null,
   "metadata": {},
   "outputs": [],
   "source": [
    "# Create a tool that uses other agents\n",
    "async def research_and_code_tool(topic: str) -> str:\n",
    "    # First, research the topic\n",
    "    research_result = await research_agent.run(f\"Research about {topic}\")\n",
    "    \n",
    "    # Then, generate code based on research\n",
    "    code_prompt = f\"Based on this research: {research_result['response']}, write Python code for {topic}\"\n",
    "    code_result = await coding_agent.run(code_prompt)\n",
    "    \n",
    "    return f\"Research: {research_result['response']}\\nCode: {code_result['response']}\"\n",
    "\n",
    "# Create a composite tool\n",
    "composite_tool = Tool(\n",
    "    name=\"research_and_code\",\n",
    "    func=research_and_code_tool,\n",
    "    description=\"Research a topic and generate code\"\n",
    ")\n",
    "\n",
    "# Create an agent with the composite tool\n",
    "advanced_agent = Agent(\n",
    "    name=\"AdvancedAssistant\",\n",
    "    context={\"capabilities\": \"research and development\"},\n",
    "    tools=[composite_tool]\n",
    ")\n",
    "\n",
    "# Use the composite tool\n",
    "result = await advanced_agent.run(\"Use research_and_code for 'sorting algorithms'\")\n",
    "print(\"Composite tool result:\")\n",
    "print(result[\"response\"])"
   ]
  },
  {
   "cell_type": "markdown",
   "metadata": {},
   "source": [
    "## Key Concepts Demonstrated\n",
    "\n",
    "1. **Agent Creation**: Agents have context (their knowledge/role) and tools (their capabilities)\n",
    "2. **Tool Creation**: Tools are simple functions wrapped with metadata\n",
    "3. **Agents as Tools**: Any agent can become a tool for another agent, enabling delegation\n",
    "4. **Shared Tools**: The AgentSystem allows tools to be shared across agents\n",
    "5. **Hierarchical Teams**: Supervisors can coordinate worker agents\n",
    "6. **Composite Tools**: Tools can orchestrate multiple agents for complex tasks\n",
    "\n",
    "This minimal implementation shows how LangGraph's state management can be combined with MCP-style tool interfaces to create flexible agent systems."
   ]
  }
 ],
 "metadata": {
  "kernelspec": {
   "display_name": "Python 3 (ipykernel)",
   "language": "python",
   "name": "python3"
  },
  "language_info": {
   "codemirror_mode": {
    "name": "ipython",
    "version": 3
   },
   "file_extension": ".py",
   "mimetype": "text/x-python",
   "name": "python",
   "nbconvert_exporter": "python",
   "pygments_lexer": "ipython3",
   "version": "3.11.7"
  }
 },
 "nbformat": 4,
 "nbformat_minor": 4
}
